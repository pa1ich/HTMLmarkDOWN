{
  "nbformat": 4,
  "nbformat_minor": 0,
  "metadata": {
    "colab": {
      "provenance": [],
      "authorship_tag": "ABX9TyOU7LyouSfL2pBkZvYogtQ/",
      "include_colab_link": true
    },
    "kernelspec": {
      "name": "python3",
      "display_name": "Python 3"
    },
    "language_info": {
      "name": "python"
    }
  },
  "cells": [
    {
      "cell_type": "markdown",
      "metadata": {
        "id": "view-in-github",
        "colab_type": "text"
      },
      "source": [
        "<a href=\"https://colab.research.google.com/github/pa1ich/HTMLmarkDOWN/blob/main/markdownHTMLkt5.ipynb\" target=\"_parent\"><img src=\"https://colab.research.google.com/assets/colab-badge.svg\" alt=\"Open In Colab\"/></a>"
      ]
    },
    {
      "cell_type": "markdown",
      "source": [
        "# КЛЮЧ-КАРТА СОТРУДНИКА\n",
        "*Информация о соруднике*\n",
        "- Имя: Dimitro\n",
        "- Фамилия: Nagiev\n",
        "- Должность: CEO-разработчик\n",
        "- ID: 13372281488\n",
        "<p><img src=\"https://oparah.ru/wp-content/uploads/2020/01/dmitrij-nagiev.jpg\" width=\"150\" height=\"111\" alt=\"Винни-Пух\"></p>\n",
        "<p align=\"center\"><b><font color=\"gray\">ООО \"Обнал\"</font></b></p>\n",
        "$$y(x) = \\frac{\\sum_{i=1}^{n} \\sum_{j=2}^{m} 9^2_i x_j}{\\sqrt{\\frac{9}{W^2}}} $$"
      ],
      "metadata": {
        "id": "2z1G4Dkh38xZ"
      }
    }
  ]
}